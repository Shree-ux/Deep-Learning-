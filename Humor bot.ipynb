{
 "cells": [
  {
   "cell_type": "code",
   "execution_count": 3,
   "id": "709b3e60",
   "metadata": {},
   "outputs": [
    {
     "name": "stdout",
     "output_type": "stream",
     "text": [
      "Requirement already satisfied: chatterbot in ./opt/anaconda3/lib/python3.9/site-packages (1.0.4)\n",
      "Requirement already satisfied: nltk<4.0,>=3.2 in ./opt/anaconda3/lib/python3.9/site-packages (from chatterbot) (3.7)\n",
      "Requirement already satisfied: chatterbot-corpus<1.3,>=1.2 in ./opt/anaconda3/lib/python3.9/site-packages (from chatterbot) (1.2.0)\n",
      "Requirement already satisfied: python-dateutil<2.8,>=2.7 in ./opt/anaconda3/lib/python3.9/site-packages (from chatterbot) (2.7.5)\n",
      "Requirement already satisfied: sqlalchemy<1.3,>=1.2 in ./opt/anaconda3/lib/python3.9/site-packages (from chatterbot) (1.2.19)\n",
      "Requirement already satisfied: pint>=0.8.1 in ./opt/anaconda3/lib/python3.9/site-packages (from chatterbot) (0.22)\n",
      "Requirement already satisfied: pymongo<4.0,>=3.3 in ./opt/anaconda3/lib/python3.9/site-packages (from chatterbot) (3.13.0)\n",
      "Requirement already satisfied: mathparse<0.2,>=0.1 in ./opt/anaconda3/lib/python3.9/site-packages (from chatterbot) (0.1.2)\n",
      "Requirement already satisfied: PyYAML<4.0,>=3.12 in ./opt/anaconda3/lib/python3.9/site-packages (from chatterbot-corpus<1.3,>=1.2->chatterbot) (3.13)\n",
      "Requirement already satisfied: tqdm in ./opt/anaconda3/lib/python3.9/site-packages (from nltk<4.0,>=3.2->chatterbot) (4.64.0)\n",
      "Requirement already satisfied: click in ./opt/anaconda3/lib/python3.9/site-packages (from nltk<4.0,>=3.2->chatterbot) (8.0.4)\n",
      "Requirement already satisfied: regex>=2021.8.3 in ./opt/anaconda3/lib/python3.9/site-packages (from nltk<4.0,>=3.2->chatterbot) (2022.3.15)\n",
      "Requirement already satisfied: joblib in ./opt/anaconda3/lib/python3.9/site-packages (from nltk<4.0,>=3.2->chatterbot) (1.1.0)\n",
      "Requirement already satisfied: typing-extensions in ./opt/anaconda3/lib/python3.9/site-packages (from pint>=0.8.1->chatterbot) (3.7.4.3)\n",
      "Requirement already satisfied: six>=1.5 in ./opt/anaconda3/lib/python3.9/site-packages (from python-dateutil<2.8,>=2.7->chatterbot) (1.15.0)\n",
      "Note: you may need to restart the kernel to use updated packages.\n"
     ]
    }
   ],
   "source": [
    "pip install chatterbot"
   ]
  },
  {
   "cell_type": "code",
   "execution_count": null,
   "id": "3897fcaa",
   "metadata": {
    "scrolled": true
   },
   "outputs": [],
   "source": [
    "from chatterbot import ChatBot\n",
    "from chatterbot.trainers import ListTrainer\n",
    "\n",
    "# Create a chatbot instance\n",
    "chatbot = ChatBot('MedicalChatbot')\n",
    "\n",
    "# Create a new trainer for the chatbot\n",
    "trainer = ListTrainer(chatbot)\n",
    "\n",
    "# Train the chatbot on medical topics\n",
    "trainer.train([\n",
    "    \"What are the symptoms of diabetes?\",\n",
    "    \"Common symptoms of diabetes include increased thirst, frequent urination, and unexplained weight loss.\",\n",
    "    \"How is hypertension diagnosed?\",\n",
    "    \"Hypertension is typically diagnosed through blood pressure measurements.\",\n",
    "    \"Tell me about the COVID-19 vaccine.\",\n",
    "    \"COVID-19 vaccines are designed to prevent infection with the SARS-CoV-2 virus.\",\n",
    "    \"What is the treatment for a common cold?\",\n",
    "    \"There is no cure for the common cold, but rest and hydration can help alleviate symptoms.\",\n",
    "    # Add more medical questions and responses here\n",
    "])\n",
    "\n",
    "# Define a function to get responses from the medical chatbot\n",
    "def get_response(user_input):\n",
    "    response = chatbot.get_response(user_input)\n",
    "    return str(response)\n",
    "\n",
    "if __name__ == \"__main__\":\n",
    "    print(\"Medical Chatbot is ready to answer your medical questions. Type 'exit' to end the conversation.\")\n",
    "    while True:\n",
    "        user_input = input(\"You: \")\n",
    "        if user_input.lower() == 'exit':\n",
    "            break\n",
    "        response = get_response(user_input)\n",
    "        print(\"Medical Chatbot:\", response)\n"
   ]
  },
  {
   "cell_type": "code",
   "execution_count": null,
   "id": "20289a3f",
   "metadata": {},
   "outputs": [],
   "source": []
  }
 ],
 "metadata": {
  "kernelspec": {
   "display_name": "Python 3 (ipykernel)",
   "language": "python",
   "name": "python3"
  },
  "language_info": {
   "codemirror_mode": {
    "name": "ipython",
    "version": 3
   },
   "file_extension": ".py",
   "mimetype": "text/x-python",
   "name": "python",
   "nbconvert_exporter": "python",
   "pygments_lexer": "ipython3",
   "version": "3.9.12"
  }
 },
 "nbformat": 4,
 "nbformat_minor": 5
}
