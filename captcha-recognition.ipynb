{
 "cells": [
  {
   "cell_type": "code",
   "execution_count": 1,
   "metadata": {
    "_cell_guid": "b1076dfc-b9ad-4769-8c92-a6c4dae69d19",
    "_uuid": "8f2839f25d086af736a60e9eeb907d3b93b6e0e5"
   },
   "outputs": [
    {
     "name": "stdout",
     "output_type": "stream",
     "text": [
      "['p5g5m.png', 'e72cd.png', 'pgmn2.png', '6cm6m.png', '68wfd.png', 'byc82.png', 'gcx6f.png', 'd8dce.png', 'gd4mf.png', 'fy2nd.png', '37ep6.png', '4nnf3.png', 'ygenn.png', 'c4527.png', 'x37bf.png', 'mx8bb.png', 'ncfgb.png', 'ewnx8.png', '2nx38.png', 'wmpmp.png', 'pyf65.png', 'nxxf8.png', 'ny5dp.png', 'dgcm4.jpg', 'cfp86.png', '2xc2n.png', '378e5.png', 'd22y5.png', 'w4nfx.png', '7mgmf.png', '25p2m.png', 'nbwnn.png', 'egxmp.png', '56ncx.png', 'gnbn4.png', 'gw468.png', 'n8ydd.png', 'n7meb.png', '36w25.png', 'nnf8b.png', 'cewnm.png', 'g2fnw.png', 'excmn.png', 'c6we6.png', 'mmg2m.png', '7nnnx.png', '55y2m.png', '5ywwf.png', 'w75w8.png', '5nm6d.png', 'cwgyx.png', 'wxy4n.png', '8gmnx.png', '7fmcy.png', 'cc845.png', '77387.png', '22d5n.png', 'ny3dw.png', 'wye85.png', '6825y.png', '43gey.png', 'fg38b.png', '2gyb6.png', 'efx34.png', '6wg4n.png', 'xxney.png', '8db67.png', 'ffpxf.png', '2mg87.png', '428b6.png', '84w7x.png', 'npxb7.png', '3n7mx.png', '832f3.png', 'pnmxf.png', 'c2yn8.png', '6bdn5.png', 'g3ex3.png', 'dc436.png', 'deneb.png', '4cfw8.png', '7p852.png', 'gm2c2.png', 'yd3m3.png', 'cndmc.jpg', 'gymmn.png', 'gc2wd.png', 'x76mn.png', '478nx.png', 'bxxfc.png', '5bg8f.png', 'wnpec.png', 'gfxcc.png', '37d52.png', 'een23.png', 'ddxpp.jpg', '6m5eg.png', '43xfe.png', 'e6b7y.png', 'nxx25.png', 'n3m6x.png', 'pg2yx.png', 'bpwd7.png', 'm457d.png', 'ccf2w.png', 'p4nm4.png', 'mmy5n.png', '8e32m.png', '4n2yg.png', 'gnf85.png', 'm2nf4.png', 'c7nn8.png', '7d44m.png', 'f6bpw.jpg', 'cwmny.png', '6fg8c.png', 'mcc2x.png', 'pdcp4.png', 'xdn65.png', 'b35f6.png', 'g7fmc.png', '5yxgp.png', 'ndecc.png', '2pfpn.png', '3p67n.png', 'gcfgp.png', '5np4m.png', 'dd764.png', 'n6xc5.png', '5nnff.png', 'ng756.png', '6bnnm.png', '7g3nf.png', 'eng53.png', '2nbcx.png', '2w4y7.png', '57wdp.png', 'b685n.png', 'byfgn.png', '3ym7f.png', 'gxxpf.png', 'ewcf5.png', 'w6pxy.png', '57gnx.png', '368y5.png', 'pwn5e.png', '2p2y8.png', 'cdfen.png', '6mygb.png', 'd7c5x.png', 'x362g.png', 'mmg38.png', '.DS_Store', 'e3cfe.jpg', 'f83pn.png', 'mfc35.png', 'px2xp.png', '8g4yp.png', 'cm6yb.png', 'p2x7x.png', 'nm46n.png', '3xcgg.png', 'pxne8.png', 'p8c24.png', '7fde7.png', 'dmxp8.png', '64b3p.png', '6f857.png', 'n7dyb.png', '3eny7.png', 'n5n8b.png', 'n5w5g.png', '5g5e5.png', '7cdge.png', 'nmy2x.png', '6f2yc.png', '488de.png', 'c4bgd.png', '823p2.png', 'edwny.png', '4fc36.png', '56c34.png', 'w4cnn.png', '5n728.png', 'e4gd7.png', 'pg4bf.png', 'feyc8.png', 'p57fn.png', 'yfdn7.png', 'xymfn.png', '8n5p3.png', '4ycex.png', 'ppwyd.png', '6n6gg.png', '556wd.png', 'd4ppy.png', 'wm47f.png', '7dxbd.png', 'nfcb5.png', 'wbncw.png', 'b4ndb.jpg', 'f7cey.png', 'gxx2p.png', 'gmmne.jpg', 'yge7c.jpg', 'befbd.png', 'n8fp6.png', 'b5dn4.png', 'edg3p.png', 'n5x2n.png', 'g2577.png', 'de7f8.png', 'fcey3.png', '3n3cf.png', 'gpxng.png', 'cpe63.png', '2en7g.png', 'bf52c.png', 'wf684.png', 'fcne6.png', 'e76n4.png', '44c22.png', '8ypdn.png', '5xd2e.png', 'gy8xb.png', 'bm3p8.png', '8b735.png', '7dgc2.png', 'bc8nf.png', '7f8b3.png', 'yyn57.png', '3ndxd.png', 'xcf88.png', 'eppg3.png', 'xyyyw.png', 'gdng3.png', 'nf2n8.png', 'nfbg8.png', 'pn7pn.png', 'xyncc.png', 'pe4xn.png', 'ddcdd.png', 'x74b2.png', 'cx3wg.png', '5mf7c.png', 'n5wbg.png', '7w67m.png', 'dfnx4.png', '6c3p5.png', 'g8gnd.png', '2cgyx.png', '33b22.png', 'g55b4.png', 'ccn2x.png', '4d22m.png', '2g7nm.png', '74853.png', 'd3ycn.png', '4exnn.png', '7bwm2.png', 'mmfm6.png', '6e554.png', '6e2dg.png', '6dmx7.png', '3dgmf.png', 'nny5e.png', 'e8dxn.png', '33ng4.png', '2mpnn.png', '32dnn.png', 'pw5nc.png', 'pyefb.png', 'y4g3b.png', 'm6n4x.png', '537nf.png', '5p8fm.png', '2356g.png', '8n2pg.png', '8684m.png', 'cnex4.png', 'nfd8g.png', 'y32yy.png', 'yw8y5.jpg', 'mw5p2.png', '2n73f.png', '7m8px.png', 'd66cn.png', 'c7gb3.png', '6p2ge.png', '6g45w.png', 'gwn53.png', 'n265y.png', '5mcy7.png', 'm8m4x.png', 'e25xg.png', '2enf4.png', 'e46yw.png', 'wb3ed.png', '77wp4.png', '6bxwg.png', '7gp47.png', 'x7422.png', 'pgwnp.png', '8bbm4.png', 'nb267.png', '7yf62.png', 'bd3b7.png', 'nf7bn.png', 'yxd7m.png', 'm4g8g.png', '8gf7n.png', 'dbny3.png', 'f753f.png', '65m85.png', 'w7e6m.png', '6ydyp.png', 'gy433.png', '3nfdn.png', 'cd4eg.png', '373gb.png', '244e2.png', 'd2ycw.png', 'y7d75.png', 'fyfbn.png', 'ddmyg.png', '4nc37.png', 'xcmbp.png', 'c43b4.png', 'xdcn4.png', 'e8e5e.png', '6ecbn.png', '7dwx4.png', 'xf5g7.png', '5mfff.png', '6xpme.png', 'n3xfg.jpg', 'dw6mn.png', 'n3bm6.png', 'c4bny.png', '268g2.png', 'g3dy6.png', 'n2c85.jpg', 'ndg2b.png', 'pbpgc.png', '76n7p.png', 'mmc5n.png', 'gy5bf.png', 'n5cm7.png', 'nbmx7.png', 'n7enn.png', 'f22bn.png', 'mbp2y.png', '67dey.png', '42dw4.png', '5npdn.png', 'w46ep.png', 'fp5wn.png', '32cnn.png', 'c3n8x.png', 'n6f4b.png', 'm8gmx.png', 'n7ebx.png', 'fpw76.png', '3x5fm.png', 'w4x2m.png', '4m2w5.png', 'pxdwp.png', '65ebm.png', '6pwcn.png', 'e6m6p.png', 'f858x.png', 'd75b5.png', 'x8xnp.png', 'yg5bb.png', '3nnpw.png', 'ne325.png', 'c3572.png', 'd2n8x.jpg', 'nfg23.png', '6n5fd.png', '2bg48.png', '5bgp2.png', 'ewyg7.jpg', '3ye2e.png', '7dyww.png', '24f6w.png', '43mn5.png', 'n8pfe.png', 'dnmd8.png', 'm5meg.png', 'bgxcd.jpg', '6ng6n.png', 'x277e.png', 'f5cm2.png', 'ygce8.jpg', '8bbw8.png', '78dw6.jpg', '7pcd7.png', 'x347n.png', 'gecmf.png', '4c8n8.png', 'bp2d4.png', '38n57.png', 'nn6mg.png', '8cccc.png', '47m2b.png', 'dyp7n.png', '72m6f.png', '664dn.png', 'n7ff2.png', 'pgg3n.png', 'mb4en.png', 'bmxpe.png', 'ddpyb.png', 'c5xne.png', '43p5d.png', 'gewfy.png', '46mbm.png', 'x775w.png', 'd7nn3.png', 'f4fn2.png', '6c3n6.png', 'bx5ed.jpg', '2fxgd.png', 'wxcn8.png', '8xef7.png', 'ncww7.png', 'pgm2e.png', 'x7746.png', '3b4we.png', 'ncw4g.png', 'dce8y.png', '3n2b4.png', '8n56m.png', '53wp3.png', '6fgdw.png', '23n88.png', 'fncnb.png', 'pp87n.png', 'y3c58.png', 'nybcx.png', 'x5nyn.png', 'ng46m.png', 'mwdf6.png', 'nn4wx.png', 'nwg2m.png', '7634y.png', 'p6mn8.png', 'd2nbn.png', 'c8n8c.png', 'p2dw7.png', 'f8f8g.png', 'c6745.png', 'gbxyy.png', '3ygde.png', '33f7m.png', 'efb3f.png', '658xe.png', 'ycmcw.png', 'b4d7c.png', 'mpmy5.png', '62fgn.jpg', 'gnbde.png', 'd3c8y.png', 'ydd3g.png', '7b4bm.png', '3ebpw.png', 'y48c3.png', 'fp3wy.png', 'cd6p4.png', 'g247w.png', 'wyc25.png', '55w5c.png', '4egem.png', 'fdpgd.png', '6b46g.png', 'xwx7d.png', 'n4wwn.png', 'gf2g4.png', '25m6p.png', '5f3gf.png', 'f85y3.png', 'ngn26.png', 'fp762.png', '5x5nx.png', 'cfc2y.png', 'pcmcc.jpg', '6end3.png', '5mnpd.png', '8np22.png', 'e2mg2.png', '33n73.png', '8npd5.png', '8npe3.png', 'pwebm.png', 'f228n.png', '44ype.png', 'bcwnn.png', 'y53c2.png', 'gp22x.png', 'ee8fg.png', 'p5nce.png', '8c2wy.png', 'w8bnx.png', 'wfy5m.png', '85dxn.png', 'p7fyp.png', '3d7bd.png', 'b4y5x.png', 'xe6eb.png', 'x7547.png', '24pew.png', 'cdf77.png', 'ddcne.png', 'dnxdp.png', 'fw3b2.png', 'nw5b2.png', '4743p.png', '3fbxd.png', 'by5y3.png', 'cfn53.png', 'nbwpn.png', 'm75bf.png', 'b43nw.png', '6xen4.png', 'pnnwy.png', 'f2m8n.png', '243mm.png', 'b5pnn.png', 'nxf2c.jpg', '574d7.png', '4433m.png', 'nxcmn.png', 'nxc83.png', 'mdyp7.png', '6mege.png', '3x325.png', 'pdw38.png', '87d4c.png', '675p3.png', '5pm6b.png', 'm5ym2.png', '6wb76.png', 'f6ww8.png', 'y4ec2.png', 'nmw46.png', '78eec.png', '5x7x5.png', '8d2nd.png', 'men4f.png', 'b26nd.png', '82fx2.png', 'm2576.png', 'wnmyn.png', '5nggg.png', 'f5e5e.png', 'fcmem.png', 'mfb3x.png', 'w6ny4.jpg', '3g2w6.png', '226md.png', 'ncyx8.png', 'y2436.png', '7xcyd.png', 'bgem5.png', 'e2d66.png', '5wddw.png', 'be6np.png', '76y6f.png', 'gwnm6.png', 'exycn.png', '6fn84.png', '4gycb.png', 'xxbm5.png', 'cwdnx.png', '8d4wm.png', '36nx4.png', '5bb66.png', '4b2pw.png', '5dxnm.png', 'mg5nn.png', '42nxy.png', 'gm7n8.png', '76353.png', '23mdg.png', 'g842c.png', 'fwxdp.png', 'm3wfw.png', 'd3c7y.png', 'g7gnf.png', 'fgb36.jpg', 'mbf58.png', 'f35xp.png', 'pym7p.png', 'n6nn2.png', 'yyg5g.png', 'xnfx5.png', 'samples', 'xc68n.png', 'ygfwe.png', '467d5.png', 'efg72.png', 'bw5ym.png', 'b55d6.png', '36bc2.png', 'pme86.png', 'fp382.png', '3mxdn.png', '88bgx.png', 'cnmnn.png', 'g6n7x.png', '5325m.png', 'm448b.png', '245y5.png', 'd666m.png', 'nngxc.png', 'c8fxy.png', 'mddgb.png', 'yw667.png', 'y866y.png', '63824.png', 'bwmee.png', '4yc85.png', 'ennmm.png', 'mc8w2.png', '8w875.png', 'm22e3.png', 'mgdwb.png', 'gfbx6.png', 'fywb8.png', 'pybee.png', 'x5f54.png', 'nnp4e.png', '84py4.jpg', 'defyx.png', '2wc38.png', 'w6yne.png', 'cy3nw.png', '7pn5g.png', 'ycnfc.png', 'w4cdc.png', '2cegf.png', 'mye68.png', 'x4pnp.png', 'c2g4d.png', '34fxm.png', 'n2gmg.png', '6pfy4.png', '5n3w4.png', '4fp5g.png', 'bw5nf.png', 'bnc5f.png', 'yew6p.png', 'efgx5.png', '6cwxe.png', 'ndme7.png', 'mxnw4.png', 'x8e8n.png', 'n8wxm.jpg', 'my84e.png', 'nn6w6.jpg', 'mxyxw.png', 'xmcym.png', 'b3xpn.png', '5ep3n.png', '8eggg.png', '8n34n.png', '5fyem.png', 'p24gn.png', 'ng6yp.png', 'n336e.png', '7gnge.png', '53mn8.png', 'e5n66.png', 'pf4nb.png', 'deep5.png', 'cfw6e.png', '85622.png', 'cg5dd.png', '56m6y.png', 'ydg8n.png', '34b84.png', 'bdbb3.png', '6wnyc.png', 'd236n.png', 'wddcp.png', 'ef4mn.png', 'e667x.png', 'e3ndn.png', 'p2ym2.png', 'w2e87.png', 'enn7n.png', 'gc83b.png', 'xxw44.png', 'ep85x.png', '3bx86.png', 'gpnxn.png', '8y6b3.png', 'n7g4f.png', 'ny3nn.png', '42xpy.png', 'nd5wg.png', 'pmd3w.png', 'nb45d.png', 'xnn4d.png', 'p8ngx.png', 'e84n2.png', 'xce8d.png', 'fnbfw.png', '5gcd3.png', '8fexn.png', '677g3.png', '474ff.png', 'mcg43.png', '4ynf3.png', 'wd2gb.png', 'x44n4.png', 'yf28d.png', '325fb.png', '8n62n.png', 'nwncn.png', 'b2nen.png', 'pwmbn.png', 'ypp8f.png', 'fxpw3.png', 'xp24p.png', '85pew.jpg', '6b4w6.png', 'fc2ff.png', 'efe62.png', 'pmg55.png', 'wdww8.png', 'm23bp.png', 'x3deb.png', 'mwxwp.png', 'mn5c4.png', 'neecd.png', 'wm746.png', 'mcyfx.png', 'pm47f.png', '5mgn4.png', 'gp7c5.png', 'f74x3.png', 'dyxnc.png', 'b4ncn.png', '7e2y7.png', '7wn74.png', 'd8xcn.png', '4f8yp.png', '4w6mw.png', '5xwcg.png', 'ybfx6.png', '3xng6.png', 'c6f8g.png', 'c753e.png', 'fg8n4.png', 'ef4np.png', 'ffnxn.png', '8nn73.png', '28348.png', 'm74dm.png', 'emwpn.png', '4dw3w.png', 'cb8cf.png', 'gegw4.png', 'w2yp7.png', '87nym.png', 'ymp7g.png', '253dc.png', 'dcnp8.png', 'pg2pm.png', 'gng6e.png', 'y5n6d.png', 'mnef5.png', '6mn8n.png', 'yeyn4.png', 'ypw3d.png', 'n4cpy.png', 'dmx8p.png', '573bn.png', 'b2g8e.png', '6ng6w.png', '58pnp.png', '8cm46.png', 'xfg65.png', '4n3mn.png', 'c482b.png', 'ffd6p.png', '728n8.png', 'ppx77.png', '2yggg.png', '2nf26.png', 'gn2xy.png', 'xfgxb.png', 'f2fge.png', '25257.png', 'y2xg4.png', 'ddnpf.png', 'pcm7f.png', 'xnnc3.png', 'bny23.png', '5expp.png', '6n443.png', 'n4b4m.png', 'yx2d4.png', 'dxwcw.png', '785n4.png', 'xw465.png', 'm4fd8.png', 'e7nx4.png', '678w3.png', 'gd8fb.png', '76nxn.png', 'fbp2c.png', '65nmw.jpg', 'md344.png', 'dmw8n.png', 'x458w.png', '377xx.png', 'dy3cx.png', 'bgb48.png', '4gb3f.png', '7bb7b.png', 'px8n8.png', '5n732.png', 'nm248.png', 'yemy4.png', 'dnne7.png', 'dn2ym.png', '662bw.png', 'dw8d3.png', 'xemyg.png', 'c353e.png', 'nfcwy.png', '3bnyf.png', 'en32e.png', 'y33nm.png', 'wwmn6.png', 'm3b5p.png', 'c4mcm.png', 'wecfd.png', 'n4xx5.png', 'pcpg6.png', 'xnd3y.png', '3wnd3.png', 'n3x4c.png', '5bnd7.png', '8n65n.png', '8wy7d.png', 'yw7ny.png', '865wm.png', 'mpxfb.png', 'yd38e.png', '5nxnn.png', 'g888x.png', 'y5g87.png', 'dbpcd.png', 'e46pd.png', '63pxe.png', '8d8ep.png', '2npg6.png', 'x2cnn.png', 'enpw2.png', '8ne4g.png', 'bp6mw.png', '5p3mm.png', 'w2n7e.png', '646x8.png', '7gce6.png', 'b5fm7.png', 'mdxpn.png', '445cc.png', 'f364x.png', 'geyn5.jpg', 'mc35n.png', 'xf4p4.png', '57b27.png', 'bn5mw.png', '3cpwb.png', 'nwfde.png', 'gm6nn.png', 'yy824.png', 'pp546.png', 'yf347.png', 'dw3nn.png', 'w48cw.png', 'p8wwf.png', '2wx73.png', '2nbc5.jpg', '8nbew.png', '62nb3.png', 'd7en3.png', 'd4n82.png', 'nxn4f.png', 'x6pdb.png', '8n4n8.png', '664nf.png', '4w76g.png', 'y2ye8.png', 'myf82.png', 'cdmn8.png', '68x48.png', 'e43ym.png', '44fyb.png', 'ywn6f.png', 'c55c6.png', '25w53.png', 'xfn6n.png', 'xbem6.png', 'n464c.png', 'gn2d3.png', 'mggce.png', 'fg7mg.png', 'f4wfn.png', 'wgnwp.png', 'nfndw.png', '7cgym.png', 'd22n7.png', '8gmc4.png', '6ge3p.png', 'g7wxw.png', 'e7x45.png', 'c2pg6.png', 'cgcgb.png', 'ebcbx.png', 'bny4w.png', '2g783.png', 'b6f2p.png', 'nbfx5.png', 'c2fb7.png', '8pfxx.png', 'fc6xb.png', 'n373n.png', 'dd5w5.png', 'nnn5p.png', '264m5.png', 'bw44w.png', '6dd2y.png', 'xngxc.png', '3bfnd.png', 'w52fn.png', '5ng6e.png', '53wb8.png', 'm67b3.png', 'c86md.png', '2x7bm.png', 'dn26n.png', 'wg625.png', 'nbf8m.png', 'bdg84.png', '75pfw.png', 'yf424.png', 'gw53m.png', 'x4gg5.png', '66wp5.png', 'cnwyc.png', '7y2x4.png', 'd378n.png', '2b827.png', 'dbfen.png', 'mp7wp.png', 'pcede.png', 'x38fn.png', 'y5w28.png', 'y7x8p.png', 'dpbyd.png', 'n3ffn.png', 'wc2bd.png', 'x6b5m.png', '88y52.png', 'pdyc8.png', 'wce5n.png', '573d8.png', 'ec6pm.png', '6gnm3.png', 'x3fwf.png', '77n6g.png', 'm3588.png', 'myc3c.png', 'nc4yg.png', '25egp.png', '3pe4g.png', 'p4pde.png', 'n2by7.png', 'xgcxy.png', '3w2bw.png', 'ndyfe.png', 'b84xc.png', 'cpc8c.png', '5n245.png', '6xxdx.png', 'cffp4.png', 'ny8np.png', 'y4n6m.png', '7wyp4.png', '3c7de.jpg', '7gmf3.png', 'pmf5w.png', 'cfc56.png', 'dn5df.png', 'g78gn.png', '3ny45.png', '2ycn8.png', 'xe8xm.png', '8n5pn.png', '4dgf7.png', 'gnc3n.png', '3den6.png', '33p4e.png', '7wnpm.png', '73mnx.png', '2cg58.png', '3nw7w.png', '4cn7b.png', '8y63f.png', '8c23f.png', 'nbcgb.png', 'nf8b8.png', '3bd8f.png', '7xd5m.png', 'pm363.png', 'd6fcn.png', '3p4nn.png', '64m82.png', 'x4f7g.png', '3ebnn.png', 'gc277.png', 'dbex3.png', '6e6pn.png', '44xe8.png', 'gny6b.png', 'en4n4.png', 'bgd4m.png', 'mgw3n.png', 'ecd4w.png', '8w754.png', 'f75cx.png', 'cen55.png', 'w8f36.png', 'cdcb3.png', 'nbp3e.png', 'b5nmm.png', '387g2.png', 'bnc2f.png', 'y7mnm.png', 'neggn.png', 'p2m6n.png', '74eyg.png', 'd22bd.png', 'bbymy.png', '58b5m.png', 'nnfx3.png', 'y5dpp.png', 'ng2gw.png', 'yd755.png', '47e4p.png', 'bw6n6.png', '8gecm.png', '28x47.png', 'pf5ng.png', 'be3bp.png', '34pcn.png', '52447.png', 'nnn57.png', 'f6ne5.png', 'mm3nn.png', 'xbcbx.png', 'ggd7m.png', 'de45x.png', 'b28g8.png', '6p7gx.png', 'gfp54.png']\n"
     ]
    }
   ],
   "source": [
    "# This Python 3 environment comes with many helpful analytics libraries installed\n",
    "# It is defined by the kaggle/python docker image: https://github.com/kaggle/docker-python\n",
    "# For example, here's several helpful packages to load in \n",
    "\n",
    "import numpy as np # linear algebra\n",
    "import pandas as pd # data processing, CSV file I/O (e.g. pd.read_csv)\n",
    "# Input data files are available in the \"../input/\" directory.\n",
    "# For example, running this (by clicking run or pressing Shift+Enter) will list the files in the input directory\n",
    "%matplotlib inline \n",
    "import matplotlib.pyplot as plt\n",
    "import os\n",
    "print(os.listdir(\"/Users/csshreejit/Downloads/samples\"))\n",
    "\n",
    "# Any results you write to the current directory are saved as output."
   ]
  },
  {
   "cell_type": "code",
   "execution_count": null,
   "metadata": {
    "_uuid": "1fdd3e1588206ff8c65ec7cf8ac41c5360a5c00a"
   },
   "outputs": [],
   "source": [
    "from keras import layers\n",
    "from keras.models import Model\n",
    "from keras.models import load_model\n",
    "from keras import callbacks\n",
    "import os\n",
    "import cv2\n",
    "import string\n",
    "import numpy as np\n",
    "\n",
    "#Init main values\n",
    "symbols = string.ascii_lowercase + \"0123456789\" # All symbols captcha can contain\n",
    "num_symbols = len(symbols)\n",
    "img_shape = (50, 200, 1)"
   ]
  },
  {
   "cell_type": "code",
   "execution_count": null,
   "metadata": {
    "_uuid": "a84cb6138839a96688013722a585658859150dd8"
   },
   "outputs": [],
   "source": [
    "print(num_symbols)"
   ]
  },
  {
   "cell_type": "code",
   "execution_count": null,
   "metadata": {
    "_uuid": "46c8b77c16307b91a561dd2b3c82d894063671b8"
   },
   "outputs": [],
   "source": [
    "def create_model():\n",
    "    img = layers.Input(shape=img_shape) # Get image as an input and process it through some Convs\n",
    "    conv1 = layers.Conv2D(16, (3, 3), padding='same', activation='relu')(img)\n",
    "    mp1 = layers.MaxPooling2D(padding='same')(conv1)  # 100x25\n",
    "    conv2 = layers.Conv2D(32, (3, 3), padding='same', activation='relu')(mp1)\n",
    "    mp2 = layers.MaxPooling2D(padding='same')(conv2)  # 50x13\n",
    "    conv3 = layers.Conv2D(32, (3, 3), padding='same', activation='relu')(mp2)\n",
    "    bn = layers.BatchNormalization()(conv3)\n",
    "    mp3 = layers.MaxPooling2D(padding='same')(bn)  # 25x7\n",
    "    \n",
    "    # Get flattened vector and make 5 branches from it. Each branch will predict one letter\n",
    "    flat = layers.Flatten()(mp3)\n",
    "    outs = []\n",
    "    for _ in range(5):\n",
    "        dens1 = layers.Dense(64, activation='relu')(flat)\n",
    "        drop = layers.Dropout(0.5)(dens1)\n",
    "        res = layers.Dense(num_symbols, activation='sigmoid')(drop)\n",
    "\n",
    "        outs.append(res)\n",
    "    \n",
    "    # Compile model and return it\n",
    "    model = Model(img, outs)\n",
    "    model.compile(loss='categorical_crossentropy', optimizer='adam',metrics=[\"accuracy\"])\n",
    "    return model"
   ]
  },
  {
   "cell_type": "code",
   "execution_count": 1,
   "metadata": {
    "_uuid": "4dccb0ee2eb679f4b7e7d1a92b52d643ac02ff3e"
   },
   "outputs": [
    {
     "ename": "NameError",
     "evalue": "name 'os' is not defined",
     "output_type": "error",
     "traceback": [
      "\u001b[0;31m---------------------------------------------------------------------------\u001b[0m",
      "\u001b[0;31mNameError\u001b[0m                                 Traceback (most recent call last)",
      "Input \u001b[0;32mIn [1]\u001b[0m, in \u001b[0;36m<cell line: 25>\u001b[0;34m()\u001b[0m\n\u001b[1;32m     22\u001b[0m     \u001b[38;5;66;03m# Return final data\u001b[39;00m\n\u001b[1;32m     23\u001b[0m     \u001b[38;5;28;01mreturn\u001b[39;00m X, y\n\u001b[0;32m---> 25\u001b[0m X, y \u001b[38;5;241m=\u001b[39m \u001b[43mpreprocess_data\u001b[49m\u001b[43m(\u001b[49m\u001b[43m)\u001b[49m\n\u001b[1;32m     26\u001b[0m X_train, y_train \u001b[38;5;241m=\u001b[39m X[:\u001b[38;5;241m970\u001b[39m], y[:, :\u001b[38;5;241m970\u001b[39m]\n\u001b[1;32m     27\u001b[0m X_test, y_test \u001b[38;5;241m=\u001b[39m X[\u001b[38;5;241m970\u001b[39m:], y[:, \u001b[38;5;241m970\u001b[39m:]\n",
      "Input \u001b[0;32mIn [1]\u001b[0m, in \u001b[0;36mpreprocess_data\u001b[0;34m()\u001b[0m\n\u001b[1;32m      1\u001b[0m \u001b[38;5;28;01mdef\u001b[39;00m \u001b[38;5;21mpreprocess_data\u001b[39m():\n\u001b[0;32m----> 2\u001b[0m     n_samples \u001b[38;5;241m=\u001b[39m \u001b[38;5;28mlen\u001b[39m(\u001b[43mos\u001b[49m\u001b[38;5;241m.\u001b[39mlistdir(\u001b[38;5;124m'\u001b[39m\u001b[38;5;124m../input/captcha-version-2-images/samples/samples\u001b[39m\u001b[38;5;124m'\u001b[39m))\n\u001b[1;32m      3\u001b[0m     X \u001b[38;5;241m=\u001b[39m np\u001b[38;5;241m.\u001b[39mzeros((n_samples, \u001b[38;5;241m50\u001b[39m, \u001b[38;5;241m200\u001b[39m, \u001b[38;5;241m1\u001b[39m)) \u001b[38;5;66;03m#1070*50*200\u001b[39;00m\n\u001b[1;32m      4\u001b[0m     y \u001b[38;5;241m=\u001b[39m np\u001b[38;5;241m.\u001b[39mzeros((\u001b[38;5;241m5\u001b[39m, n_samples, num_symbols)) \u001b[38;5;66;03m#5*1070*36\u001b[39;00m\n",
      "\u001b[0;31mNameError\u001b[0m: name 'os' is not defined"
     ]
    }
   ],
   "source": [
    "def preprocess_data():\n",
    "    n_samples = len(os.listdir('../input/captcha-version-2-images/samples/samples'))\n",
    "    X = np.zeros((n_samples, 50, 200, 1)) #1070*50*200\n",
    "    y = np.zeros((5, n_samples, num_symbols)) #5*1070*36\n",
    "\n",
    "    for i, pic in enumerate(os.listdir('../input/captcha-version-2-images/samples/samples')):\n",
    "        # Read image as grayscale\n",
    "        img = cv2.imread(os.path.join('../input/captcha-version-2-images/samples/samples', pic), cv2.IMREAD_GRAYSCALE)\n",
    "        pic_target = pic[:-4]\n",
    "        if len(pic_target) < 6:\n",
    "            # Scale and reshape image\n",
    "            img = img / 255.0\n",
    "            img = np.reshape(img, (50, 200, 1))\n",
    "            # Define targets and code them using OneHotEncoding\n",
    "            targs = np.zeros((5, num_symbols))\n",
    "            for j, l in enumerate(pic_target):\n",
    "                ind = symbols.find(l)\n",
    "                targs[j, ind] = 1\n",
    "            X[i] = img\n",
    "            y[:, i] = targs\n",
    "    \n",
    "    # Return final data\n",
    "    return X, y\n",
    "\n",
    "X, y = preprocess_data()\n",
    "X_train, y_train = X[:970], y[:, :970]\n",
    "X_test, y_test = X[970:], y[:, 970:]"
   ]
  },
  {
   "cell_type": "code",
   "execution_count": 2,
   "metadata": {
    "_uuid": "834999810cccd5d867f87b26b4b6e89d87a3092f"
   },
   "outputs": [
    {
     "ename": "NameError",
     "evalue": "name 'create_model' is not defined",
     "output_type": "error",
     "traceback": [
      "\u001b[0;31m---------------------------------------------------------------------------\u001b[0m",
      "\u001b[0;31mNameError\u001b[0m                                 Traceback (most recent call last)",
      "Input \u001b[0;32mIn [2]\u001b[0m, in \u001b[0;36m<cell line: 1>\u001b[0;34m()\u001b[0m\n\u001b[0;32m----> 1\u001b[0m model\u001b[38;5;241m=\u001b[39m\u001b[43mcreate_model\u001b[49m();\n\u001b[1;32m      2\u001b[0m model\u001b[38;5;241m.\u001b[39msummary()\n",
      "\u001b[0;31mNameError\u001b[0m: name 'create_model' is not defined"
     ]
    }
   ],
   "source": [
    "model=create_model();\n",
    "model.summary();"
   ]
  },
  {
   "cell_type": "code",
   "execution_count": 3,
   "metadata": {
    "_uuid": "e82754ff49c3cec708b87947c417566a252d3c12"
   },
   "outputs": [
    {
     "ename": "NameError",
     "evalue": "name 'model' is not defined",
     "output_type": "error",
     "traceback": [
      "\u001b[0;31m---------------------------------------------------------------------------\u001b[0m",
      "\u001b[0;31mNameError\u001b[0m                                 Traceback (most recent call last)",
      "Input \u001b[0;32mIn [3]\u001b[0m, in \u001b[0;36m<cell line: 2>\u001b[0;34m()\u001b[0m\n\u001b[1;32m      1\u001b[0m \u001b[38;5;66;03m#model = create_model()\u001b[39;00m\n\u001b[0;32m----> 2\u001b[0m hist \u001b[38;5;241m=\u001b[39m \u001b[43mmodel\u001b[49m\u001b[38;5;241m.\u001b[39mfit(X_train, [y_train[\u001b[38;5;241m0\u001b[39m], y_train[\u001b[38;5;241m1\u001b[39m], y_train[\u001b[38;5;241m2\u001b[39m], y_train[\u001b[38;5;241m3\u001b[39m], y_train[\u001b[38;5;241m4\u001b[39m]], batch_size\u001b[38;5;241m=\u001b[39m\u001b[38;5;241m32\u001b[39m, epochs\u001b[38;5;241m=\u001b[39m\u001b[38;5;241m30\u001b[39m,verbose\u001b[38;5;241m=\u001b[39m\u001b[38;5;241m1\u001b[39m, validation_split\u001b[38;5;241m=\u001b[39m\u001b[38;5;241m0.2\u001b[39m)\n",
      "\u001b[0;31mNameError\u001b[0m: name 'model' is not defined"
     ]
    }
   ],
   "source": [
    "#model = create_model()\n",
    "hist = model.fit(X_train, [y_train[0], y_train[1], y_train[2], y_train[3], y_train[4]], batch_size=32, epochs=30,verbose=1, validation_split=0.2)"
   ]
  },
  {
   "cell_type": "code",
   "execution_count": 4,
   "metadata": {
    "_uuid": "e2cf1d0b8ab4a293d3dc110eb85a0946333bb0b9"
   },
   "outputs": [],
   "source": [
    "# Define function to predict captcha\n",
    "def predict(filepath):\n",
    "    img = cv2.imread(filepath, cv2.IMREAD_GRAYSCALE)\n",
    "    if img is not None:\n",
    "        img = img / 255.0\n",
    "    else:\n",
    "        print(\"Not detected\");\n",
    "    res = np.array(model.predict(img[np.newaxis, :, :, np.newaxis]))\n",
    "    ans = np.reshape(res, (5, 36))\n",
    "    l_ind = []\n",
    "    probs = []\n",
    "    for a in ans:\n",
    "        l_ind.append(np.argmax(a))\n",
    "        #probs.append(np.max(a))\n",
    "\n",
    "    capt = ''\n",
    "    for l in l_ind:\n",
    "        capt += symbols[l]\n",
    "    return capt#, sum(probs) / 5\n",
    "\n"
   ]
  },
  {
   "cell_type": "code",
   "execution_count": 5,
   "metadata": {
    "_uuid": "ed22f3a33792928c9f74601b264d269361755e0b"
   },
   "outputs": [
    {
     "ename": "NameError",
     "evalue": "name 'model' is not defined",
     "output_type": "error",
     "traceback": [
      "\u001b[0;31m---------------------------------------------------------------------------\u001b[0m",
      "\u001b[0;31mNameError\u001b[0m                                 Traceback (most recent call last)",
      "Input \u001b[0;32mIn [5]\u001b[0m, in \u001b[0;36m<cell line: 1>\u001b[0;34m()\u001b[0m\n\u001b[0;32m----> 1\u001b[0m score\u001b[38;5;241m=\u001b[39m \u001b[43mmodel\u001b[49m\u001b[38;5;241m.\u001b[39mevaluate(X_test,[y_test[\u001b[38;5;241m0\u001b[39m], y_test[\u001b[38;5;241m1\u001b[39m], y_test[\u001b[38;5;241m2\u001b[39m], y_test[\u001b[38;5;241m3\u001b[39m], y_test[\u001b[38;5;241m4\u001b[39m]],verbose\u001b[38;5;241m=\u001b[39m\u001b[38;5;241m1\u001b[39m)\n\u001b[1;32m      2\u001b[0m \u001b[38;5;28mprint\u001b[39m(\u001b[38;5;124m'\u001b[39m\u001b[38;5;124mTest Loss and accuracy:\u001b[39m\u001b[38;5;124m'\u001b[39m, score)\n",
      "\u001b[0;31mNameError\u001b[0m: name 'model' is not defined"
     ]
    }
   ],
   "source": [
    "score= model.evaluate(X_test,[y_test[0], y_test[1], y_test[2], y_test[3], y_test[4]],verbose=1)\n",
    "print('Test Loss and accuracy:', score)"
   ]
  },
  {
   "cell_type": "code",
   "execution_count": 6,
   "metadata": {
    "_uuid": "44002a5776a0b54067cc8ff9574c2fbdfc356068"
   },
   "outputs": [
    {
     "ename": "NameError",
     "evalue": "name 'model' is not defined",
     "output_type": "error",
     "traceback": [
      "\u001b[0;31m---------------------------------------------------------------------------\u001b[0m",
      "\u001b[0;31mNameError\u001b[0m                                 Traceback (most recent call last)",
      "Input \u001b[0;32mIn [6]\u001b[0m, in \u001b[0;36m<cell line: 2>\u001b[0;34m()\u001b[0m\n\u001b[1;32m      1\u001b[0m \u001b[38;5;66;03m# Check model on some samples\u001b[39;00m\n\u001b[0;32m----> 2\u001b[0m \u001b[43mmodel\u001b[49m\u001b[38;5;241m.\u001b[39mevaluate(X_test, [y_test[\u001b[38;5;241m0\u001b[39m], y_test[\u001b[38;5;241m1\u001b[39m], y_test[\u001b[38;5;241m2\u001b[39m], y_test[\u001b[38;5;241m3\u001b[39m], y_test[\u001b[38;5;241m4\u001b[39m]])\n\u001b[1;32m      3\u001b[0m \u001b[38;5;28mprint\u001b[39m(predict(\u001b[38;5;124m'\u001b[39m\u001b[38;5;124m../input/captcha-version-2-images/samples/samples/8n5p3.png\u001b[39m\u001b[38;5;124m'\u001b[39m))\n\u001b[1;32m      4\u001b[0m \u001b[38;5;28mprint\u001b[39m(predict(\u001b[38;5;124m'\u001b[39m\u001b[38;5;124m../input/captcha-version-2-images/samples/samples/f2m8n.png\u001b[39m\u001b[38;5;124m'\u001b[39m))\n",
      "\u001b[0;31mNameError\u001b[0m: name 'model' is not defined"
     ]
    }
   ],
   "source": [
    "# Check model on some samples\n",
    "model.evaluate(X_test, [y_test[0], y_test[1], y_test[2], y_test[3], y_test[4]])\n",
    "print(predict('../input/captcha-version-2-images/samples/samples/8n5p3.png'))\n",
    "print(predict('../input/captcha-version-2-images/samples/samples/f2m8n.png'))\n",
    "print(predict('../input/captcha-version-2-images/samples/samples/dce8y.png'))\n",
    "print(predict('../input/captcha-version-2-images/samples/samples/3eny7.png'))\n",
    "print(predict('../input/captcha-version-2-images/samples/samples/npxb7.png'))"
   ]
  },
  {
   "cell_type": "code",
   "execution_count": 7,
   "metadata": {
    "_uuid": "1f7aa77001b1185404c45a928d2555c484c402b3"
   },
   "outputs": [
    {
     "ename": "NameError",
     "evalue": "name 'cv2' is not defined",
     "output_type": "error",
     "traceback": [
      "\u001b[0;31m---------------------------------------------------------------------------\u001b[0m",
      "\u001b[0;31mNameError\u001b[0m                                 Traceback (most recent call last)",
      "Input \u001b[0;32mIn [7]\u001b[0m, in \u001b[0;36m<cell line: 5>\u001b[0;34m()\u001b[0m\n\u001b[1;32m      3\u001b[0m get_ipython()\u001b[38;5;241m.\u001b[39mrun_line_magic(\u001b[38;5;124m'\u001b[39m\u001b[38;5;124mmatplotlib\u001b[39m\u001b[38;5;124m'\u001b[39m, \u001b[38;5;124m'\u001b[39m\u001b[38;5;124minline\u001b[39m\u001b[38;5;124m'\u001b[39m)\n\u001b[1;32m      4\u001b[0m \u001b[38;5;28;01mimport\u001b[39;00m \u001b[38;5;21;01mmatplotlib\u001b[39;00m\u001b[38;5;21;01m.\u001b[39;00m\u001b[38;5;21;01mpyplot\u001b[39;00m \u001b[38;5;28;01mas\u001b[39;00m \u001b[38;5;21;01mplt\u001b[39;00m\n\u001b[0;32m----> 5\u001b[0m img\u001b[38;5;241m=\u001b[39m\u001b[43mcv2\u001b[49m\u001b[38;5;241m.\u001b[39mimread(\u001b[38;5;124m'\u001b[39m\u001b[38;5;124m../input/captcha/capthaimage/capthaimages/a.png\u001b[39m\u001b[38;5;124m'\u001b[39m,cv2\u001b[38;5;241m.\u001b[39mIMREAD_GRAYSCALE)\n\u001b[1;32m      6\u001b[0m plt\u001b[38;5;241m.\u001b[39mimshow(img, cmap\u001b[38;5;241m=\u001b[39mplt\u001b[38;5;241m.\u001b[39mget_cmap(\u001b[38;5;124m'\u001b[39m\u001b[38;5;124mgray\u001b[39m\u001b[38;5;124m'\u001b[39m))\n",
      "\u001b[0;31mNameError\u001b[0m: name 'cv2' is not defined"
     ]
    }
   ],
   "source": [
    "#Lets test an unknown captcha\n",
    "#preview\n",
    "%matplotlib inline \n",
    "import matplotlib.pyplot as plt\n",
    "img=cv2.imread('../input/captcha/capthaimage/capthaimages/a.png',cv2.IMREAD_GRAYSCALE)\n",
    "plt.imshow(img, cmap=plt.get_cmap('gray'))"
   ]
  },
  {
   "cell_type": "code",
   "execution_count": 8,
   "metadata": {
    "_uuid": "c9ac975ea5aae3b03c23204d7e32a534c2db19d0"
   },
   "outputs": [
    {
     "ename": "NameError",
     "evalue": "name 'cv2' is not defined",
     "output_type": "error",
     "traceback": [
      "\u001b[0;31m---------------------------------------------------------------------------\u001b[0m",
      "\u001b[0;31mNameError\u001b[0m                                 Traceback (most recent call last)",
      "Input \u001b[0;32mIn [8]\u001b[0m, in \u001b[0;36m<cell line: 2>\u001b[0;34m()\u001b[0m\n\u001b[1;32m      1\u001b[0m \u001b[38;5;66;03m#Lets Predict By Model\u001b[39;00m\n\u001b[0;32m----> 2\u001b[0m \u001b[38;5;28mprint\u001b[39m(\u001b[38;5;124m\"\u001b[39m\u001b[38;5;124mPredicted Captcha =\u001b[39m\u001b[38;5;124m\"\u001b[39m,\u001b[43mpredict\u001b[49m\u001b[43m(\u001b[49m\u001b[38;5;124;43m'\u001b[39;49m\u001b[38;5;124;43m../input/captcha/capthaimage/capthaimages/a.png\u001b[39;49m\u001b[38;5;124;43m'\u001b[39;49m\u001b[43m)\u001b[49m)\n",
      "Input \u001b[0;32mIn [4]\u001b[0m, in \u001b[0;36mpredict\u001b[0;34m(filepath)\u001b[0m\n\u001b[1;32m      2\u001b[0m \u001b[38;5;28;01mdef\u001b[39;00m \u001b[38;5;21mpredict\u001b[39m(filepath):\n\u001b[0;32m----> 3\u001b[0m     img \u001b[38;5;241m=\u001b[39m \u001b[43mcv2\u001b[49m\u001b[38;5;241m.\u001b[39mimread(filepath, cv2\u001b[38;5;241m.\u001b[39mIMREAD_GRAYSCALE)\n\u001b[1;32m      4\u001b[0m     \u001b[38;5;28;01mif\u001b[39;00m img \u001b[38;5;129;01mis\u001b[39;00m \u001b[38;5;129;01mnot\u001b[39;00m \u001b[38;5;28;01mNone\u001b[39;00m:\n\u001b[1;32m      5\u001b[0m         img \u001b[38;5;241m=\u001b[39m img \u001b[38;5;241m/\u001b[39m \u001b[38;5;241m255.0\u001b[39m\n",
      "\u001b[0;31mNameError\u001b[0m: name 'cv2' is not defined"
     ]
    }
   ],
   "source": [
    "#Lets Predict By Model\n",
    "print(\"Predicted Captcha =\",predict('../input/captcha/capthaimage/capthaimages/a.png'))"
   ]
  },
  {
   "cell_type": "code",
   "execution_count": 9,
   "metadata": {
    "_uuid": "06940ca0d54ec7944e926b67232334830884a308"
   },
   "outputs": [],
   "source": [
    "#testing\n",
    "#c=0\n",
    "#for i, pic in enumerate(os.listdir('../input/captcha-version-2-images/samples/samples')):\n",
    "        # Read image as grayscale\n",
    "        \n",
    "        #if i>970:    \n",
    "\n",
    "            #img = cv2.imread(os.path.join('../input/captcha-version-2-images/samples/samples', pic), cv2.IMREAD_GRAYSCALE)\n",
    "            #print(\"Predicted Captcha =\",predict(os.path.join('../input/captcha-version-2-images/samples/samples',pic)))\n",
    "            #plt.imshow(img, cmap=plt.get_cmap('gray'))\n",
    "            #pr=predict(os.path.join('../input/captcha-version-2-images/samples/samples',pic))\n",
    "            #pic_target = pic[:-4]\n",
    "            #if pr==pic_target:\n",
    "                #c=c+1\n",
    "                #print(c)\n",
    "            #print(pic_target)\n",
    "#print((c/100)*100)"
   ]
  },
  {
   "cell_type": "code",
   "execution_count": null,
   "metadata": {
    "_uuid": "1c7d6e4f3407125d1bb3425efeaf31522a579abb"
   },
   "outputs": [],
   "source": []
  }
 ],
 "metadata": {
  "kaggle": {
   "accelerator": "gpu",
   "dataSources": [
    {
     "datasetId": 127654,
     "sourceId": 306061,
     "sourceType": "datasetVersion"
    },
    {
     "datasetId": 38019,
     "sourceId": 306654,
     "sourceType": "datasetVersion"
    }
   ],
   "dockerImageVersionId": 21695,
   "isGpuEnabled": true,
   "isInternetEnabled": false,
   "language": "python",
   "sourceType": "notebook"
  },
  "kernelspec": {
   "display_name": "Python 3 (ipykernel)",
   "language": "python",
   "name": "python3"
  },
  "language_info": {
   "codemirror_mode": {
    "name": "ipython",
    "version": 3
   },
   "file_extension": ".py",
   "mimetype": "text/x-python",
   "name": "python",
   "nbconvert_exporter": "python",
   "pygments_lexer": "ipython3",
   "version": "3.9.12"
  }
 },
 "nbformat": 4,
 "nbformat_minor": 4
}
