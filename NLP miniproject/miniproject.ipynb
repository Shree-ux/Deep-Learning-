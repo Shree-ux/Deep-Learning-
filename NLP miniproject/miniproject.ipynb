{
 "cells": [
  {
   "cell_type": "markdown",
   "id": "a22b7160",
   "metadata": {},
   "source": [
    "# Customer Review Analysis using NLP/Text Analytics\n",
    "\n",
    "Data Analysis ,\n",
    "Sentiment Analysis ,\n"
   ]
  },
  {
   "cell_type": "code",
   "execution_count": 1,
   "id": "6cec846e",
   "metadata": {},
   "outputs": [],
   "source": [
    "import pandas as pd\n",
    "import numpy as np\n",
    "import os\n",
    "import matplotlib.pyplot as plt\n",
    "import matplotlib\n",
    "matplotlib.style.use('ggplot')\n",
    "from __future__ import unicode_literals"
   ]
  },
  {
   "cell_type": "code",
   "execution_count": 2,
   "id": "4df5ac03",
   "metadata": {},
   "outputs": [],
   "source": [
    "Amazon_Meta_Data = pd.read_csv('Amazon_Unlocked_Mobile.csv', encoding='utf-8')"
   ]
  },
  {
   "cell_type": "code",
   "execution_count": 3,
   "id": "67efeace",
   "metadata": {},
   "outputs": [
    {
     "data": {
      "text/html": [
       "<div>\n",
       "<style scoped>\n",
       "    .dataframe tbody tr th:only-of-type {\n",
       "        vertical-align: middle;\n",
       "    }\n",
       "\n",
       "    .dataframe tbody tr th {\n",
       "        vertical-align: top;\n",
       "    }\n",
       "\n",
       "    .dataframe thead th {\n",
       "        text-align: right;\n",
       "    }\n",
       "</style>\n",
       "<table border=\"1\" class=\"dataframe\">\n",
       "  <thead>\n",
       "    <tr style=\"text-align: right;\">\n",
       "      <th></th>\n",
       "      <th>Product Name</th>\n",
       "      <th>Brand Name</th>\n",
       "      <th>Price</th>\n",
       "      <th>Rating</th>\n",
       "      <th>Reviews</th>\n",
       "      <th>Review Votes</th>\n",
       "    </tr>\n",
       "  </thead>\n",
       "  <tbody>\n",
       "    <tr>\n",
       "      <th>0</th>\n",
       "      <td>\"CLEAR CLEAN ESN\" Sprint EPIC 4G Galaxy SPH-D7...</td>\n",
       "      <td>Samsung</td>\n",
       "      <td>199.99</td>\n",
       "      <td>5</td>\n",
       "      <td>I feel so LUCKY to have found this used (phone...</td>\n",
       "      <td>1.0</td>\n",
       "    </tr>\n",
       "    <tr>\n",
       "      <th>1</th>\n",
       "      <td>\"CLEAR CLEAN ESN\" Sprint EPIC 4G Galaxy SPH-D7...</td>\n",
       "      <td>Samsung</td>\n",
       "      <td>199.99</td>\n",
       "      <td>4</td>\n",
       "      <td>nice phone, nice up grade from my pantach revu...</td>\n",
       "      <td>0.0</td>\n",
       "    </tr>\n",
       "  </tbody>\n",
       "</table>\n",
       "</div>"
      ],
      "text/plain": [
       "                                        Product Name Brand Name   Price  \\\n",
       "0  \"CLEAR CLEAN ESN\" Sprint EPIC 4G Galaxy SPH-D7...    Samsung  199.99   \n",
       "1  \"CLEAR CLEAN ESN\" Sprint EPIC 4G Galaxy SPH-D7...    Samsung  199.99   \n",
       "\n",
       "   Rating                                            Reviews  Review Votes  \n",
       "0       5  I feel so LUCKY to have found this used (phone...           1.0  \n",
       "1       4  nice phone, nice up grade from my pantach revu...           0.0  "
      ]
     },
     "execution_count": 3,
     "metadata": {},
     "output_type": "execute_result"
    }
   ],
   "source": [
    "Amazon_Meta_Data.head(2)"
   ]
  },
  {
   "cell_type": "code",
   "execution_count": 4,
   "id": "bd9664cf",
   "metadata": {
    "scrolled": true
   },
   "outputs": [
    {
     "data": {
      "text/plain": [
       "Index(['Product Name', 'Brand Name', 'Price', 'Rating', 'Reviews',\n",
       "       'Review Votes'],\n",
       "      dtype='object')"
      ]
     },
     "execution_count": 4,
     "metadata": {},
     "output_type": "execute_result"
    }
   ],
   "source": [
    "Amazon_Meta_Data.columns"
   ]
  },
  {
   "cell_type": "code",
   "execution_count": 5,
   "id": "e1c31123",
   "metadata": {},
   "outputs": [
    {
     "data": {
      "text/plain": [
       "Product Name     object\n",
       "Brand Name       object\n",
       "Price           float64\n",
       "Rating            int64\n",
       "Reviews          object\n",
       "Review Votes    float64\n",
       "dtype: object"
      ]
     },
     "execution_count": 5,
     "metadata": {},
     "output_type": "execute_result"
    }
   ],
   "source": [
    "Amazon_Meta_Data.dtypes"
   ]
  },
  {
   "cell_type": "code",
   "execution_count": 6,
   "id": "c771dc20",
   "metadata": {},
   "outputs": [
    {
     "data": {
      "text/plain": [
       "413840"
      ]
     },
     "execution_count": 6,
     "metadata": {},
     "output_type": "execute_result"
    }
   ],
   "source": [
    "Reviews = Amazon_Meta_Data['Reviews']\n",
    "len(Reviews)"
   ]
  },
  {
   "cell_type": "code",
   "execution_count": 7,
   "id": "466ad732",
   "metadata": {},
   "outputs": [
    {
     "data": {
      "text/plain": [
       "SAMSUNG       68720\n",
       "BLU           63256\n",
       "APPLE         58187\n",
       "LG            22423\n",
       "BLACKBERRY    17929\n",
       "NOKIA         16841\n",
       "MOTOROLA      13447\n",
       "HTC           12927\n",
       "CNPGD         12613\n",
       "OTTERBOX       7989\n",
       "Name: Brand Name, dtype: int64"
      ]
     },
     "execution_count": 7,
     "metadata": {},
     "output_type": "execute_result"
    }
   ],
   "source": [
    "Brand_Name = Amazon_Meta_Data['Brand Name'].str.upper()\n",
    "Brand_Name.value_counts().head(10)"
   ]
  },
  {
   "cell_type": "markdown",
   "id": "d518fc9b",
   "metadata": {},
   "source": [
    "Review Ranting "
   ]
  },
  {
   "cell_type": "code",
   "execution_count": 8,
   "id": "13f5d722",
   "metadata": {},
   "outputs": [
    {
     "data": {
      "text/html": [
       "<div>\n",
       "<style scoped>\n",
       "    .dataframe tbody tr th:only-of-type {\n",
       "        vertical-align: middle;\n",
       "    }\n",
       "\n",
       "    .dataframe tbody tr th {\n",
       "        vertical-align: top;\n",
       "    }\n",
       "\n",
       "    .dataframe thead th {\n",
       "        text-align: right;\n",
       "    }\n",
       "</style>\n",
       "<table border=\"1\" class=\"dataframe\">\n",
       "  <thead>\n",
       "    <tr style=\"text-align: right;\">\n",
       "      <th></th>\n",
       "      <th>count</th>\n",
       "      <th>min</th>\n",
       "      <th>max</th>\n",
       "    </tr>\n",
       "    <tr>\n",
       "      <th>Brand Name</th>\n",
       "      <th></th>\n",
       "      <th></th>\n",
       "      <th></th>\n",
       "    </tr>\n",
       "  </thead>\n",
       "  <tbody>\n",
       "    <tr>\n",
       "      <th>Samsung</th>\n",
       "      <td>65747</td>\n",
       "      <td>1</td>\n",
       "      <td>5</td>\n",
       "    </tr>\n",
       "    <tr>\n",
       "      <th>BLU</th>\n",
       "      <td>63248</td>\n",
       "      <td>1</td>\n",
       "      <td>5</td>\n",
       "    </tr>\n",
       "    <tr>\n",
       "      <th>Apple</th>\n",
       "      <td>58186</td>\n",
       "      <td>1</td>\n",
       "      <td>5</td>\n",
       "    </tr>\n",
       "    <tr>\n",
       "      <th>LG</th>\n",
       "      <td>22417</td>\n",
       "      <td>1</td>\n",
       "      <td>5</td>\n",
       "    </tr>\n",
       "    <tr>\n",
       "      <th>BlackBerry</th>\n",
       "      <td>16872</td>\n",
       "      <td>1</td>\n",
       "      <td>5</td>\n",
       "    </tr>\n",
       "    <tr>\n",
       "      <th>Nokia</th>\n",
       "      <td>16806</td>\n",
       "      <td>1</td>\n",
       "      <td>5</td>\n",
       "    </tr>\n",
       "    <tr>\n",
       "      <th>Motorola</th>\n",
       "      <td>13417</td>\n",
       "      <td>1</td>\n",
       "      <td>5</td>\n",
       "    </tr>\n",
       "    <tr>\n",
       "      <th>HTC</th>\n",
       "      <td>12724</td>\n",
       "      <td>1</td>\n",
       "      <td>5</td>\n",
       "    </tr>\n",
       "    <tr>\n",
       "      <th>CNPGD</th>\n",
       "      <td>12613</td>\n",
       "      <td>1</td>\n",
       "      <td>5</td>\n",
       "    </tr>\n",
       "    <tr>\n",
       "      <th>OtterBox</th>\n",
       "      <td>7989</td>\n",
       "      <td>1</td>\n",
       "      <td>5</td>\n",
       "    </tr>\n",
       "    <tr>\n",
       "      <th>Sony</th>\n",
       "      <td>7828</td>\n",
       "      <td>1</td>\n",
       "      <td>5</td>\n",
       "    </tr>\n",
       "    <tr>\n",
       "      <th>Posh Mobile</th>\n",
       "      <td>6765</td>\n",
       "      <td>1</td>\n",
       "      <td>5</td>\n",
       "    </tr>\n",
       "    <tr>\n",
       "      <th>Huawei</th>\n",
       "      <td>3325</td>\n",
       "      <td>1</td>\n",
       "      <td>5</td>\n",
       "    </tr>\n",
       "    <tr>\n",
       "      <th>LG Electronics</th>\n",
       "      <td>3105</td>\n",
       "      <td>1</td>\n",
       "      <td>5</td>\n",
       "    </tr>\n",
       "    <tr>\n",
       "      <th>samsung</th>\n",
       "      <td>2431</td>\n",
       "      <td>1</td>\n",
       "      <td>5</td>\n",
       "    </tr>\n",
       "  </tbody>\n",
       "</table>\n",
       "</div>"
      ],
      "text/plain": [
       "                count  min  max\n",
       "Brand Name                     \n",
       "Samsung         65747    1    5\n",
       "BLU             63248    1    5\n",
       "Apple           58186    1    5\n",
       "LG              22417    1    5\n",
       "BlackBerry      16872    1    5\n",
       "Nokia           16806    1    5\n",
       "Motorola        13417    1    5\n",
       "HTC             12724    1    5\n",
       "CNPGD           12613    1    5\n",
       "OtterBox         7989    1    5\n",
       "Sony             7828    1    5\n",
       "Posh Mobile      6765    1    5\n",
       "Huawei           3325    1    5\n",
       "LG Electronics   3105    1    5\n",
       "samsung          2431    1    5"
      ]
     },
     "execution_count": 8,
     "metadata": {},
     "output_type": "execute_result"
    }
   ],
   "source": [
    "Customer_Ratings = Amazon_Meta_Data.groupby(\n",
    "    'Brand Name'\n",
    "    ).Rating.agg(\n",
    "        ['count', 'min', 'max']\n",
    "    ).sort_values(\n",
    "        'count', ascending=False\n",
    "    )\n",
    "Customer_Ratings.head(15)"
   ]
  },
  {
   "cell_type": "code",
   "execution_count": 9,
   "id": "c3ee337a",
   "metadata": {},
   "outputs": [
    {
     "data": {
      "text/html": [
       "<div>\n",
       "<style scoped>\n",
       "    .dataframe tbody tr th:only-of-type {\n",
       "        vertical-align: middle;\n",
       "    }\n",
       "\n",
       "    .dataframe tbody tr th {\n",
       "        vertical-align: top;\n",
       "    }\n",
       "\n",
       "    .dataframe thead th {\n",
       "        text-align: right;\n",
       "    }\n",
       "</style>\n",
       "<table border=\"1\" class=\"dataframe\">\n",
       "  <thead>\n",
       "    <tr style=\"text-align: right;\">\n",
       "      <th></th>\n",
       "      <th>count</th>\n",
       "      <th>min</th>\n",
       "      <th>max</th>\n",
       "    </tr>\n",
       "    <tr>\n",
       "      <th>Product Name</th>\n",
       "      <th></th>\n",
       "      <th></th>\n",
       "      <th></th>\n",
       "    </tr>\n",
       "  </thead>\n",
       "  <tbody>\n",
       "    <tr>\n",
       "      <th>Apple iPhone 4s 8GB Unlocked Smartphone w/ 8MP Camera, White (Certified Refurbished)</th>\n",
       "      <td>1451</td>\n",
       "      <td>1</td>\n",
       "      <td>5</td>\n",
       "    </tr>\n",
       "    <tr>\n",
       "      <th>Apple MF259LL/A - iPhone 4s 8GB / 8MP Camera - Unlocked - Black (Certified Refurbished)</th>\n",
       "      <td>1241</td>\n",
       "      <td>1</td>\n",
       "      <td>5</td>\n",
       "    </tr>\n",
       "    <tr>\n",
       "      <th>BLU Studio 5.0 C HD Unlocked Cellphone, Black</th>\n",
       "      <td>1194</td>\n",
       "      <td>1</td>\n",
       "      <td>5</td>\n",
       "    </tr>\n",
       "    <tr>\n",
       "      <th>OtterBox Iphone 5/5S/SE Defender Case w/ Drop and Dust Proctection - Realtree AP Pink</th>\n",
       "      <td>1129</td>\n",
       "      <td>1</td>\n",
       "      <td>5</td>\n",
       "    </tr>\n",
       "    <tr>\n",
       "      <th>Motorola Moto E (1st Generation) - Black - 4 GB - Global GSM Unlocked Phone</th>\n",
       "      <td>1127</td>\n",
       "      <td>1</td>\n",
       "      <td>5</td>\n",
       "    </tr>\n",
       "    <tr>\n",
       "      <th>Apple iPhone 5s 32GB (Silver) - AT&amp;T</th>\n",
       "      <td>1118</td>\n",
       "      <td>1</td>\n",
       "      <td>5</td>\n",
       "    </tr>\n",
       "    <tr>\n",
       "      <th>BLU Energy X Plus Smartphone - With 4000 mAh Super Battery- US GSM Unlocked - Grey</th>\n",
       "      <td>1111</td>\n",
       "      <td>1</td>\n",
       "      <td>5</td>\n",
       "    </tr>\n",
       "    <tr>\n",
       "      <th>Samsung Galaxy S Duos II S7582 DUAL SIM Factory Unlocked International Version - Black</th>\n",
       "      <td>1109</td>\n",
       "      <td>1</td>\n",
       "      <td>5</td>\n",
       "    </tr>\n",
       "    <tr>\n",
       "      <th>Samsung Galaxy S Duos II GT-S7582 Factory Unlocked Cellphone, International Version, White</th>\n",
       "      <td>1108</td>\n",
       "      <td>1</td>\n",
       "      <td>5</td>\n",
       "    </tr>\n",
       "    <tr>\n",
       "      <th>Samsung Galaxy S Duos GT-S7562 GSM Unlocked Touchscreen 5MP Camera Smartphone White</th>\n",
       "      <td>1096</td>\n",
       "      <td>1</td>\n",
       "      <td>5</td>\n",
       "    </tr>\n",
       "    <tr>\n",
       "      <th>Samsung Galaxy S4 i9505 16GB LTE Unlocked International Version White</th>\n",
       "      <td>1095</td>\n",
       "      <td>1</td>\n",
       "      <td>5</td>\n",
       "    </tr>\n",
       "    <tr>\n",
       "      <th>Apple iPhone 5s AT&amp;T Cellphone, 16GB, Silver</th>\n",
       "      <td>1080</td>\n",
       "      <td>1</td>\n",
       "      <td>5</td>\n",
       "    </tr>\n",
       "    <tr>\n",
       "      <th>Apple iPhone 4S 16GB Unlocked GSM - White (Certified Refurbished)</th>\n",
       "      <td>1071</td>\n",
       "      <td>1</td>\n",
       "      <td>5</td>\n",
       "    </tr>\n",
       "    <tr>\n",
       "      <th>BLU Energy X Plus Smartphone - With 4000 mAh Super Battery- Global GSM Unlocked - Grey</th>\n",
       "      <td>1061</td>\n",
       "      <td>1</td>\n",
       "      <td>5</td>\n",
       "    </tr>\n",
       "    <tr>\n",
       "      <th>Motorola Moto E (1st Generation) - Black - 4 GB - US GSM Unlocked Phone</th>\n",
       "      <td>1057</td>\n",
       "      <td>1</td>\n",
       "      <td>5</td>\n",
       "    </tr>\n",
       "  </tbody>\n",
       "</table>\n",
       "</div>"
      ],
      "text/plain": [
       "                                                    count  min  max\n",
       "Product Name                                                       \n",
       "Apple iPhone 4s 8GB Unlocked Smartphone w/ 8MP ...   1451    1    5\n",
       "Apple MF259LL/A - iPhone 4s 8GB / 8MP Camera - ...   1241    1    5\n",
       "BLU Studio 5.0 C HD Unlocked Cellphone, Black        1194    1    5\n",
       "OtterBox Iphone 5/5S/SE Defender Case w/ Drop a...   1129    1    5\n",
       "Motorola Moto E (1st Generation) - Black - 4 GB...   1127    1    5\n",
       "Apple iPhone 5s 32GB (Silver) - AT&T                 1118    1    5\n",
       "BLU Energy X Plus Smartphone - With 4000 mAh Su...   1111    1    5\n",
       "Samsung Galaxy S Duos II S7582 DUAL SIM Factory...   1109    1    5\n",
       "Samsung Galaxy S Duos II GT-S7582 Factory Unloc...   1108    1    5\n",
       "Samsung Galaxy S Duos GT-S7562 GSM Unlocked Tou...   1096    1    5\n",
       "Samsung Galaxy S4 i9505 16GB LTE Unlocked Inter...   1095    1    5\n",
       "Apple iPhone 5s AT&T Cellphone, 16GB, Silver         1080    1    5\n",
       "Apple iPhone 4S 16GB Unlocked GSM - White (Cert...   1071    1    5\n",
       "BLU Energy X Plus Smartphone - With 4000 mAh Su...   1061    1    5\n",
       "Motorola Moto E (1st Generation) - Black - 4 GB...   1057    1    5"
      ]
     },
     "execution_count": 9,
     "metadata": {},
     "output_type": "execute_result"
    }
   ],
   "source": [
    "Product_Ratings = Amazon_Meta_Data.groupby(\n",
    "    'Product Name'\n",
    "    ).Rating.agg(\n",
    "        ['count', 'min', 'max']\n",
    "    ).sort_values(\n",
    "        'count', ascending=False\n",
    "    )\n",
    "Product_Ratings.head(15)"
   ]
  },
  {
   "cell_type": "markdown",
   "id": "6cf836f3",
   "metadata": {},
   "source": [
    "Sentimental analysis"
   ]
  },
  {
   "cell_type": "code",
   "execution_count": 10,
   "id": "6806df98",
   "metadata": {},
   "outputs": [],
   "source": [
    "from nltk.sentiment.vader import SentimentIntensityAnalyzer\n",
    "sample_review = Reviews[:10]    "
   ]
  },
  {
   "cell_type": "code",
   "execution_count": 11,
   "id": "27342765",
   "metadata": {},
   "outputs": [],
   "source": [
    "sentiment = SentimentIntensityAnalyzer()"
   ]
  },
  {
   "cell_type": "code",
   "execution_count": 12,
   "id": "16d939af",
   "metadata": {},
   "outputs": [
    {
     "name": "stderr",
     "output_type": "stream",
     "text": [
      "[nltk_data] Downloading package vader_lexicon to\n",
      "[nltk_data]     /Users/csshreejit/nltk_data...\n",
      "[nltk_data]   Package vader_lexicon is already up-to-date!\n"
     ]
    },
    {
     "data": {
      "text/plain": [
       "True"
      ]
     },
     "execution_count": 12,
     "metadata": {},
     "output_type": "execute_result"
    }
   ],
   "source": [
    "import nltk\n",
    "nltk.download('vader_lexicon')"
   ]
  },
  {
   "cell_type": "code",
   "execution_count": 13,
   "id": "7871c1d3",
   "metadata": {},
   "outputs": [
    {
     "name": "stdout",
     "output_type": "stream",
     "text": [
      "compound: 0.8783, \n",
      "neg: 0.015, \n",
      "neu: 0.796, \n",
      "pos: 0.189, \n",
      "I feel so LUCKY to have found this used (phone to us & not used hard at all), phone on line from someone who upgraded and sold this one. My Son liked his old one that finally fell apart after 2.5+ years and didn't want an upgrade!! Thank you Seller, we really appreciate it & your honesty re: said used phone.I recommend this seller very highly & would but from them again!!\n",
      "compound: 0.9231, \n",
      "neg: 0.072, \n",
      "neu: 0.597, \n",
      "pos: 0.331, \n",
      "nice phone, nice up grade from my pantach revue. Very clean set up and easy set up. never had an android phone but they are fantastic to say the least. perfect size for surfing and social media. great phone samsung\n",
      "compound: 0.4927, \n",
      "neg: 0.0, \n",
      "neu: 0.238, \n",
      "pos: 0.762, \n",
      "Very pleased\n",
      "compound: 0.9185, \n",
      "neg: 0.0, \n",
      "neu: 0.5, \n",
      "pos: 0.5, \n",
      "It works good but it goes slow sometimes but its a very good phone I love it\n",
      "compound: 0.2942, \n",
      "neg: 0.038, \n",
      "neu: 0.897, \n",
      "pos: 0.065, \n",
      "Great phone to replace my lost phone. The only thing is the volume up button does not work, but I can still go into settings to adjust. Other than that, it does the job until I am eligible to upgrade my phone again.Thaanks!\n",
      "compound: -0.9107, \n",
      "neg: 0.143, \n",
      "neu: 0.857, \n",
      "pos: 0.0, \n",
      "I already had a phone with problems... I know it stated it was used, but dang, it did not state that it did not charge. I wish I would have read these comments then I would have not purchased this item.... and its cracked on the side.. damaged goods is what it is.... If trying to charge it another way does not work I am requesting for my money back... AND I WILL GET MY MONEY BACK...SIGNED AN UNHAPPY CUSTOMER....\n",
      "compound: -0.0516, \n",
      "neg: 0.057, \n",
      "neu: 0.891, \n",
      "pos: 0.052, \n",
      "The charging port was loose. I got that soldered in. Then needed a new battery as well. $100 later (not including cost of purchase) I have a usable phone. The phone should not have been sold in the state it was in.\n",
      "compound: 0.4486, \n",
      "neg: 0.087, \n",
      "neu: 0.709, \n",
      "pos: 0.204, \n",
      "Phone looks good but wouldn't stay charged, had to buy new battery. Still couldn't stay charged long.so I trashed it.MONEY lost, never again will I buy from this person! !!!\n",
      "compound: 0.9491, \n",
      "neg: 0.023, \n",
      "neu: 0.848, \n",
      "pos: 0.129, \n",
      "I originally was using the Samsung S2 Galaxy for Sprint and wanted to return back to the Samsung EPIC 4G for Sprint because I really missed the keyboard, I really liked the smaller compact size of the phone, and I still needed some of the basic functions of a smart phone (i.e. checking e-mail, getting directions, text messaging) Because the phone is not as powerful as the newer cell phones out there, just be aware that the more applications you install the slower the phone runs and will most likely freeze up from time to time. But the camera works great, the video is great as well, and even the web browsing is decent and gives me what I need. I also notice that battery life lasts a little bit longer and charging the phone is much quicker than my Galaxy S2.\n",
      "compound: 0.8268, \n",
      "neg: 0.0, \n",
      "neu: 0.791, \n",
      "pos: 0.209, \n",
      "It's battery life is great. It's very responsive to touch. The only issue is that sometimes the screen goes black and you have to press the top button several times to get the screen to re-illuminate.\n"
     ]
    }
   ],
   "source": [
    "for sentences in sample_review:\n",
    "    sentences\n",
    "    ss = sentiment.polarity_scores(sentences)\n",
    "    for k in sorted(ss):\n",
    "        print('{0}: {1}, '.format(k, ss[k]))\n",
    "    print(sentences)   "
   ]
  },
  {
   "cell_type": "code",
   "execution_count": 20,
   "id": "8028311c",
   "metadata": {},
   "outputs": [
    {
     "name": "stdout",
     "output_type": "stream",
     "text": [
      "Enter the text: bad battery life\n",
      "compound: -0.5423, \n",
      "neg: 0.636, \n",
      "neu: 0.364, \n",
      "pos: 0.0, \n",
      "bad battery life\n"
     ]
    }
   ],
   "source": [
    "user_sent = [input(\"Enter the text: \")]\n",
    "for i in user_sent:\n",
    "    ss = sentiment.polarity_scores(i)\n",
    "    for k in sorted(ss):\n",
    "        print('{0}: {1}, '.format(k, ss[k]))\n",
    "    print(i)   "
   ]
  },
  {
   "cell_type": "code",
   "execution_count": null,
   "id": "43d418bd",
   "metadata": {},
   "outputs": [],
   "source": []
  }
 ],
 "metadata": {
  "kernelspec": {
   "display_name": "Python 3 (ipykernel)",
   "language": "python",
   "name": "python3"
  },
  "language_info": {
   "codemirror_mode": {
    "name": "ipython",
    "version": 3
   },
   "file_extension": ".py",
   "mimetype": "text/x-python",
   "name": "python",
   "nbconvert_exporter": "python",
   "pygments_lexer": "ipython3",
   "version": "3.9.12"
  }
 },
 "nbformat": 4,
 "nbformat_minor": 5
}
